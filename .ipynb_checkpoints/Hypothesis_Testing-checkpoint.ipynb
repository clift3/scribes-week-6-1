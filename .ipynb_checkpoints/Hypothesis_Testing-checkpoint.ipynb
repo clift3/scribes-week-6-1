{
 "cells": [
  {
   "cell_type": "code",
   "execution_count": 1,
   "metadata": {},
   "outputs": [],
   "source": [
    "import pandas as pd\n",
    "import matplotlib.pyplot as plt\n",
    "import numpy as np\n",
    "\n",
    "np.random.seed(129)\n",
    "\n",
    "%matplotlib inline"
   ]
  },
  {
   "cell_type": "markdown",
   "metadata": {},
   "source": [
    "### Hypothesis Testing\n",
    "\n",
    "Hypothesis testing is the process of using statistics to determine the probability that a specific hypothesis(a proposition made as a basis for reasoning, without any assumption of its truth) is true.\n",
    "The method in which we select samples to learn more about characteristics in a given population is called hypothesis testing."
   ]
  },
  {
   "cell_type": "markdown",
   "metadata": {},
   "source": [
    "### Hypothesis testing can be summarized in four steps:\n",
    "\n",
    "Steps to perform:\n",
    "\n",
    "1. First we identify a hypothesis that we want to be tested. For example, we might want to test the claim that the mean number of hours that people spend on facebook per week is 5 hours in US.\n",
    "\n",
    "2. We select a criterion upon which we decide that the claim being tested is true or not. For example, the claim is that people spend nearly 5 hours a week on facebook. Most samples we select should have a mean close to or equal to 5 hours if the claim we are testing is true.\n",
    "\n",
    "3. Select a random sample from the population and measure the sample mean.\n",
    "\n",
    "4. Comparing our observarion with what we assumed, if the claim we are testing is true. We expect the sample mean to be around 5 hours.\n",
    "\n",
    "\n",
    "The difference between parametric a non-parametric method:\n",
    "  parametric methods make assumptions about the parameters and the underlying distributions\n",
    "  non-parametric methods do not make any assumptions about underlying params and their distributions\n",
    "\n",
    "\n"
   ]
  },
  {
   "cell_type": "markdown",
   "metadata": {},
   "source": [
    "### Important terms \n",
    "\n",
    "The null hypothesis (H0), is a statement about a population parameter, such as the population mean, that is assumed to be true.\n",
    "\n",
    "If we state that our assumption is wrong then the proof for that is known as an alternative hypothesis (H1). An alternative hypothesis is a statement which contradicts a null hypothesis by stating that the actual value of a population parameter is not equal to the value stated in the null hypothesis.\n",
    "\n",
    "Significance level, refers to a criterion upon which a decision is made regarding the value stated in a null hypothesis. The criterion is based on the probability of obtaining a statistic measured in a sample if the value stated in the null hypothesis were true. Level of significance is typically set at 5%. When the probability of obtaining a sample mean is less than 5% if the null hypothesis were true, then we reject the value stated in the null hypothesis.\n",
    "\n",
    "The test statistic is a mathematical formula that allows us to determine the likelihood of obtaining sample outcomes if the null hypothesis were true. The value of the test statistic is used to make a decision regarding the null hypothesis.\n",
    "\n",
    "A p value is the probability of obtaining a sample outcome, given that the value stated in the null hypothesis is true. The p value for obtaining a sample outcome is compared to the level of significance.\n",
    "\n",
    "When the p value is greater than 5% (p > .05), we retain the null hypothesis. The decision to reject or retain the null hypothesis is called significance."
   ]
  },
  {
   "cell_type": "markdown",
   "metadata": {},
   "source": [
    "### Hypothesis Testing Questions\n",
    "\n",
    "In Hypothesis testing, we will tackle the following questions:\n",
    "\n",
    "  1. A measure of the difference between two hypothesis(the two assumptions made; one supporting a statement and the other opposing it)\n",
    "    This is referred to as the `effect size`\n",
    "    Economists have shown that universal basic income makes people happier\n",
    "    The results were statistically significant.\n",
    "    But how much happier are they? \n",
    "    If participants are 1% happier, is it worth spending $43 billion (expected cost in Canada) on the universal basic income?\n",
    "    \n",
    "    \n",
    "  2. Probabilities associated with the measured difference \n",
    "    How variable is the measured or inferred difference?\n",
    "    How likely is it that the difference is due to chance alone?\n",
    "    This is referred to as `p-value`."
   ]
  },
  {
   "cell_type": "markdown",
   "metadata": {},
   "source": [
    "### Data In Hypothesis Testing\n",
    "\n",
    "1. Can involve data from either one or two samples. For instance:\n",
    "Comparing a single sample to a population with a known mean.  \n",
    "\n",
    "Ex. you use a new math curriculum on a *sample* of randomly selected students and compare the results to the national average. \n",
    "\n",
    "2. Does your curriculum improve math exam score compared to the national average.\n",
    " \n",
    "Comparing two samples to   determine whether there is a difference between both\n",
    "Ex. you teach your math curriculum to a group of students in the morning and another group of students in the afternoon\n",
    "Is there a difference between learning math in the morning or the afternoon?"
   ]
  },
  {
   "cell_type": "markdown",
   "metadata": {},
   "source": [
    "### Terminology - Cont'd\n",
    "\n",
    "1. The alternative hypothesis can be single-tailed\n",
    "    Our new method improves the average score compared to the national average\n",
    "    $\\mu_{new_method} > \\mu_{national_score}$\n",
    "   \n",
    "2. a new medication decreases cholesterol levels  \n",
    "    $\\mu_{cholesterol_treatment} < \\mu_{cholesterol_control}$\n",
    "\n",
    "3. The alternative hypothesis is two-tailed\n",
    "   The vlaues must be diferent from a given value\n",
    "   Ex. Rate of prescription of opiods in Hawaii is different fromt the national average. This implied\n",
    "   $\\mu_{opioids_hawaii} < \\mu_{opioids_natioanlly}$ or $\\mu_{opioids_hawaii} > \\mu_{opioids_natioanlly}\n",
    "\n"
   ]
  },
  {
   "cell_type": "markdown",
   "metadata": {},
   "source": [
    "### EXAMPLE: Data from a Theoretical Distribution\n",
    "\n",
    "Suppose the data comes from two normal distributions\n",
    "The distributions have means $\\mu_1= 232$ and $\\mu_2 = 219$\n",
    "The standard deviations is the same for both distributuons ($\\sigma = 12$)\n",
    " \n",
    "These could perhaps your app average ad time in minutes viewed daily on YouTube versus Vimeo\n",
    "We can simulate sales data for the app on both platforms\n",
    "Say we generate 90 days worth of viewing data"
   ]
  },
  {
   "cell_type": "code",
   "execution_count": 2,
   "metadata": {},
   "outputs": [
    {
     "data": {
      "image/png": "[encoded data removed]",
      "text/plain": [
       "<Figure size 864x432 with 1 Axes>"
      ]
     },
     "metadata": {},
     "output_type": "display_data"
    }
   ],
   "source": [
    "# plotting graph with random sampled data \n",
    "plt.figure(figsize=(12,6))\n",
    "youtube = np.random.normal(232, 2, 90)\n",
    "vimeo = np.random.normal(219, 2, 90)\n",
    "\n",
    "_ = plt.hist(youtube, edgecolor='k', linewidth=1.2, bins=12, color='r', alpha=0.5)\n",
    "_ = plt.hist(vimeo, edgecolor='k', linewidth=1.2, bins=12, color='b', alpha=0.5)\n",
    "\n",
    "\n",
    "\n"
   ]
  },
  {
   "cell_type": "markdown",
   "metadata": {},
   "source": [
    "### Creating normally distributed data from numpy\n",
    "using np.random.normal we can pass it 3 arguments\n",
    "    1. Mean value of the dataset\n",
    "    2. Standard deviation of the dataset\n",
    "    3. Sample size to return *(also manipulates the shape of the data)\n",
    "\n",
    "\n",
    "### Q. What line of code correctly builds an array containing 100 samples of normally distributed data with a mean of 10 and std. dev. of .1\n",
    "\n",
    "    A) np.rand.normal(100, 10, .1)\n",
    "    B) np.random.normal(10, .1, 100)\n",
    "    C) np.random.normal(100, 10, 0.1)\n",
    "    \n",
    "Answer: np.random.normal(10, .1, 100)\n",
    "    "
   ]
  },
  {
   "cell_type": "markdown",
   "metadata": {},
   "source": [
    "### Assessing the variability of our statistic - Different Samples\n",
    "\n",
    "\n",
    "The difference between the means is a useful statistic to assess the difference between both samples\n",
    "How variable is the difference between the means if we were to re-sample a large number of times\n",
    "We call this our observed statistic\n",
    "\n"
   ]
  },
  {
   "cell_type": "code",
   "execution_count": 3,
   "metadata": {},
   "outputs": [
    {
     "data": {
      "text/plain": [
       "12.970384335616558"
      ]
     },
     "execution_count": 3,
     "metadata": {},
     "output_type": "execute_result"
    }
   ],
   "source": [
    "np.mean(youtube) - np.mean(vimeo)"
   ]
  },
  {
   "cell_type": "markdown",
   "metadata": {},
   "source": [
    "### Question\n",
    "\n",
    "What is the mean of the distriution of the difference between the means?\n",
    "\n",
    "```python\n",
    "youtube = np.random.normal(232, 2, 90)\n",
    "vimeo = np.random.normal(219, 2, 90)\n",
    "means_difference.append(np.mean(youtube) - np.mean(vimeo))\n",
    "```\n",
    "\n",
    "<img src=\"images/what_is_the_mean.png\" alt=\"drawing\" style=\"width:1200px;\"/>\n"
   ]
  },
  {
   "cell_type": "code",
   "execution_count": 4,
   "metadata": {},
   "outputs": [
    {
     "data": {
      "image/png": "[encoded data removed]",
      "text/plain": [
       "<Figure size 864x432 with 1 Axes>"
      ]
     },
     "metadata": {},
     "output_type": "display_data"
    }
   ],
   "source": [
    "plt.figure(figsize=(12,6))\n",
    "means_difference = []\n",
    "for _ in range(1000):\n",
    "    youtube = np.random.normal(232, 2, 90)\n",
    "    vimeo = np.random.normal(219, 2, 90)\n",
    "\n",
    "    means_difference.append(np.mean(youtube) - np.mean(vimeo))\n",
    "    \n",
    "_ = plt.hist(means_difference, edgecolor='k', linewidth=1.2, bins=12)"
   ]
  },
  {
   "cell_type": "markdown",
   "metadata": {},
   "source": [
    "### mean difference\n",
    "The code is meant to look at the distribution of the mean difference in the time spent watching advertisements on youtube vs. vimeo. To do this we are going to create sample data for youtube and vimeo \n",
    "\n",
    "    `youtube = np.random.normal(232, 2, 90)\n",
    "    vimeo = np.random.normal(219, 2, 90)`\n",
    "    \n",
    "As done before we are assuming the data stems from a normal distribution so we use random.normal. Ask yourself what is the mean, std. dist. and sample size of each set of data?\n",
    "\n",
    "Answer:  Youtube has a mean value of 232, a std. dev. of 2, and we are grabbing 90 samples.\n",
    "         The only difference with vimeo is that the mean value is 219.\n",
    "        \n",
    "We will then calculate the mean of each data set and append the difference to an array call means_difference.\n",
    "\n",
    "    `means_difference.append(np.mean(youtube) - np.mean(vimeo))`\n",
    "\n",
    "Within the for loop we will repeat this process 1000 times.\n",
    "\n",
    "After plotting means_difference we can visually see that the average difference between the means a bit over 13. \n",
    "\n",
    "We can see this is an expected outcome as the mean for each dataset was 232 and 219, the difference of which is 13."
   ]
  },
  {
   "cell_type": "markdown",
   "metadata": {},
   "source": [
    "### Assessing the variability of our statistic - Similar Samples\n",
    "\n",
    "What does the difference between two sample of the same distributions look like on average?\n",
    "Here we choose data from Youtube's param but we can choose vemeo's\n",
    "  \n",
    "```python\n",
    "youtube_1 = np.random.normal(232, 2, 90)\n",
    "youtube_2 = np.random.normal(232, 2, 90)\n",
    "means_difference.append(np.mean(youtube_1) - np.mean(youtube_2))\n",
    "```"
   ]
  },
  {
   "cell_type": "markdown",
   "metadata": {},
   "source": [
    "### Question\n",
    "\n",
    "```python\n",
    "youtube_1 = np.random.normal(232, 2, 90)\n",
    "youtube_2 = np.random.normal(232, 2, 90)\n",
    "means_difference.append(np.mean(youtube_1) - np.mean(youtube_2))\n",
    "```\n",
    "\n",
    "What do we expect the mean of that distribution to be?"
   ]
  },
  {
   "cell_type": "code",
   "execution_count": 5,
   "metadata": {},
   "outputs": [
    {
     "data": {
      "image/png": "[encoded data removed]",
      "text/plain": [
       "<Figure size 864x432 with 1 Axes>"
      ]
     },
     "metadata": {},
     "output_type": "display_data"
    }
   ],
   "source": [
    "plt.figure(figsize=(12,6))\n",
    "means_difference = []\n",
    "for _ in range(1000):\n",
    "    youtube_1 = np.random.normal(232, 2, 90)\n",
    "    youtube_2 = np.random.normal(232, 2, 90)\n",
    "\n",
    "    means_difference.append(np.mean(youtube_1) - np.mean(youtube_2))\n",
    "    \n",
    "_ = plt.hist(means_difference, edgecolor='k', linewidth=1.2, bins=12,)"
   ]
  },
  {
   "cell_type": "markdown",
   "metadata": {},
   "source": [
    "### Assessing the variability of our statistic - Similar Samples - Cont'd\n",
    "\n",
    "Order within or between `youtube_1` and `youtube_2` does not matter\n",
    "Data in both comes from the same distribution\n",
    "\n",
    "We can, for instance:\n",
    "1. Generate the data in the same call to `np.random.normal` and then  split the data\n",
    "2. We could even permute the data and split it randomly across both samples\n",
    "\n"
   ]
  },
  {
   "cell_type": "code",
   "execution_count": 6,
   "metadata": {},
   "outputs": [
    {
     "data": {
      "text/plain": [
       "array([3, 1, 2])"
      ]
     },
     "execution_count": 6,
     "metadata": {},
     "output_type": "execute_result"
    }
   ],
   "source": [
    "a = np.array([1,2,3])\n",
    "# shuffles the data in place\n",
    "np.random.shuffle(a)\n",
    "a"
   ]
  },
  {
   "cell_type": "code",
   "execution_count": 7,
   "metadata": {},
   "outputs": [
    {
     "data": {
      "image/png": "[encoded data removed]",
      "text/plain": [
       "<Figure size 864x432 with 1 Axes>"
      ]
     },
     "metadata": {},
     "output_type": "display_data"
    }
   ],
   "source": [
    "# 1. Generating the data in the same call, splitting or shuffling the data does not change the results\n",
    "\n",
    "plt.figure(figsize=(12,6))\n",
    "means_difference = []\n",
    "\n",
    "\n",
    "for _ in range(1000):\n",
    "    # Generate 180 days worth of data in each iteration\n",
    "    all_data = np.random.normal(232, 2, 180)\n",
    "    # shuffle the data and then split it\n",
    "    # over youtube_1 and youtube_2\n",
    "    np.random.shuffle(all_data)\n",
    "    youtube_1 = all_data[0:90]\n",
    "    youtube_2 = all_data[90:180]\n",
    "    means_difference.append(np.mean(youtube_1) - np.mean(youtube_2))\n",
    "    \n",
    "_ = plt.hist(means_difference, edgecolor='k', linewidth=1.2, bins=12)"
   ]
  },
  {
   "cell_type": "code",
   "execution_count": 8,
   "metadata": {},
   "outputs": [
    {
     "data": {
      "image/png": "[encoded data removed]",
      "text/plain": [
       "<Figure size 864x432 with 1 Axes>"
      ]
     },
     "metadata": {},
     "output_type": "display_data"
    }
   ],
   "source": [
    "# 1. Generating the data in the same call, splitting or shuffling the data does not change the results\n",
    "\n",
    "plt.figure(figsize=(12,6))\n",
    "\n",
    "means_difference = []\n",
    "\n",
    "# Generate 180 days worth of data once\n",
    "all_data = np.random.normal(232, 2, 180)\n",
    "\n",
    "for _ in range(1000):\n",
    "\n",
    "    # shuffle the data and then split it\n",
    "    # over youtube_1 and youtube_2\n",
    "    np.random.shuffle(all_data)\n",
    "    youtube_1 = all_data[0:90]\n",
    "    youtube_2 = all_data[90:180]\n",
    "    means_difference.append(np.mean(youtube_1) - np.mean(youtube_2))\n",
    "    \n",
    "_ = plt.hist(means_difference, edgecolor='k', linewidth=1.2, bins=12)"
   ]
  },
  {
   "cell_type": "markdown",
   "metadata": {},
   "source": [
    "# Question\n",
    "\n",
    "What would the distribution of differences between the means of permutated Vimeo and YouTube looks like? \n",
    "\n",
    "```\n",
    "all_data = np.concatenate([youtube, vimeo])\n",
    "\n",
    "for _ in range(1000):\n",
    "    np.random.shuffle(all_data)\n",
    "    youtube_s = all_data[:90]\n",
    "    vimeo_s = all_data[90:]\n",
    "```\n",
    "\n",
    "<img src=\"images/unknown_mean.png\" alt=\"drawing\" style=\"width:600px;\"/>\n",
    "\n",
    "\n"
   ]
  },
  {
   "cell_type": "code",
   "execution_count": 9,
   "metadata": {},
   "outputs": [
    {
     "data": {
      "image/png": "[encoded data removed]",
      "text/plain": [
       "<Figure size 864x432 with 1 Axes>"
      ]
     },
     "metadata": {},
     "output_type": "display_data"
    }
   ],
   "source": [
    "plt.figure(figsize=(12,6))\n",
    "means_difference = []\n",
    "youtube = np.random.normal(232, 2, 90)\n",
    "vimeo = np.random.normal(219, 2, 90)\n",
    "all_data = np.concatenate([youtube, vimeo])\n",
    "for _ in range(1000):\n",
    "    np.random.shuffle(all_data)\n",
    "    youtube_s = all_data[:90]\n",
    "    vimeo_s = all_data[90:]\n",
    "    means_difference.append(np.mean(youtube_s) - np.mean(vimeo_s))\n",
    "    \n",
    "_ = plt.hist(means_difference, edgecolor='k', linewidth=1.2, bins=12)"
   ]
  },
  {
   "cell_type": "markdown",
   "metadata": {},
   "source": [
    "### Question\n",
    "\n",
    "What would the distribution of differences between the means of permutated Vimeo and YouTube looks like? \n",
    "\n",
    "### Answer\n",
    "\n",
    "The mean of the distribution of differences is 0 since the experiment is  equivalent to sampling from a single large population of both youtube and vimeo viewers.\n",
    "\n",
    "\n"
   ]
  },
  {
   "cell_type": "markdown",
   "metadata": {},
   "source": [
    "#  Merged Youtube and Vimeo Samples \n",
    "\n",
    "<img src=\"images/permutation.png\" alt=\"drawing\" style=\"width:1000px;\"/>\n"
   ]
  },
  {
   "cell_type": "markdown",
   "metadata": {},
   "source": [
    "### Question\n",
    "\n",
    "What would the distribution of the shuffled difference between Vimeo and youtube if the samples are not balanced?\n",
    "Say, for instance, one sample has 100 and the second have 4 times more individuals"
   ]
  },
  {
   "cell_type": "code",
   "execution_count": 10,
   "metadata": {},
   "outputs": [
    {
     "data": {
      "image/png": "[encoded data removed]",
      "text/plain": [
       "<Figure size 864x432 with 1 Axes>"
      ]
     },
     "metadata": {},
     "output_type": "display_data"
    }
   ],
   "source": [
    "plt.figure(figsize=(12,6))\n",
    "means_difference = []\n",
    "youtube = np.random.normal(232, 2, 90)\n",
    "vimeo = np.random.normal(219, 2, 400)\n",
    "all_data = np.concatenate([youtube, vimeo])\n",
    "for _ in range(1000):\n",
    "    np.random.shuffle(all_data)\n",
    "    youtube_s = all_data[:90]\n",
    "    vimeo_s = all_data[90:]\n",
    "    means_difference.append(np.mean(youtube_s) - np.mean(vimeo_s))\n",
    "    \n",
    "_ = plt.hist(means_difference, edgecolor='k', linewidth=1.2, bins=12)"
   ]
  },
  {
   "cell_type": "markdown",
   "metadata": {},
   "source": [
    "# Original Observation and Permutated data\n",
    "\n",
    "<img src=\"images/youtube_vimeo_difference.png\" alt=\"drawing\" style=\"width:800px;\"/>"
   ]
  },
  {
   "cell_type": "code",
   "execution_count": 12,
   "metadata": {},
   "outputs": [
    {
     "data": {
      "text/plain": [
       "<matplotlib.collections.PathCollection at 0x11fbd8278>"
      ]
     },
     "execution_count": 12,
     "metadata": {},
     "output_type": "execute_result"
    },
    {
     "data": {
      "image/png": "[encoded data removed]",
      "text/plain": [
       "<Figure size 864x432 with 1 Axes>"
      ]
     },
     "metadata": {},
     "output_type": "display_data"
    }
   ],
   "source": [
    "plt.figure(figsize=(12,6))\n",
    "means_difference = []\n",
    "youtube = np.random.normal(232, 2, 90)\n",
    "vimeo = np.random.normal(219, 2, 400)\n",
    "all_data = np.concatenate([youtube, vimeo])\n",
    "for _ in range(1000):\n",
    "    np.random.shuffle(all_data)\n",
    "    youtube_s = all_data[:90]\n",
    "    vimeo_s = all_data[90:]\n",
    "    means_difference.append(np.mean(youtube_s) - np.mean(vimeo_s))\n",
    "    \n",
    "_ = plt.hist(means_difference, edgecolor='k', linewidth=1.2, bins=12)\n",
    "\n",
    "plt.scatter(np.mean(youtube) - np.mean(vimeo), 0, color = \"red\", s=40)"
   ]
  },
  {
   "cell_type": "markdown",
   "metadata": {},
   "source": [
    "### Using the Above to Compare Samples  \n",
    "\n",
    "What have we learned?\n",
    "The difference between the means of samples from the same distribution has a mean of 0\n",
    "\n",
    "This is very useful for testing the null hypothesis\n",
    "Under the null hypothesis, we assume that the differences between the values observed across two samples is attributed to chance alone \n",
    "\n",
    "Comparing the observed difference between the means of two samples to that obtained if samples of the same distribution shows how similar/dissimilar the samples while accounting for sampling variability\n",
    "\n",
    "\n"
   ]
  },
  {
   "cell_type": "markdown",
   "metadata": {},
   "source": [
    "### Comparing Samples from Similar Distributions\n",
    "\n",
    "1. What does a plausible observed difference of means look like?\n",
    "\n",
    "2. Is there a difference between the spending of males and females on your e-commerce platform?\n",
    "\n",
    "Again we will generate the data form two distributions \n",
    "The distributions are different but close ($\\mu_{male} = 450$ and \\mu_{female} = 456)\n",
    "The standard deviation is the same for both populations but relatively large ($\\sigma = 89$)  \n",
    "We will simulate spending for 230 males and 190 females\n"
   ]
  },
  {
   "cell_type": "code",
   "execution_count": 13,
   "metadata": {},
   "outputs": [
    {
     "data": {
      "text/plain": [
       "1.0489526043879778"
      ]
     },
     "execution_count": 13,
     "metadata": {},
     "output_type": "execute_result"
    }
   ],
   "source": [
    "\n",
    "male_spending = np.random.normal(450, 89, 230)\n",
    "female_spending = np.random.normal(456, 89, 190)\n",
    "np.mean(male_spending) - np.mean(female_spending)"
   ]
  },
  {
   "cell_type": "code",
   "execution_count": 14,
   "metadata": {},
   "outputs": [
    {
     "data": {
      "text/plain": [
       "<matplotlib.collections.PathCollection at 0x11fb893c8>"
      ]
     },
     "execution_count": 14,
     "metadata": {},
     "output_type": "execute_result"
    },
    {
     "data": {
      "image/png": "[encoded data removed]",
      "text/plain": [
       "<Figure size 432x288 with 1 Axes>"
      ]
     },
     "metadata": {},
     "output_type": "display_data"
    }
   ],
   "source": [
    "all_data = np.concatenate([male_spending, female_spending])\n",
    "means_difference = []\n",
    "\n",
    "for _ in range(1000):\n",
    "    np.random.shuffle(all_data)\n",
    "    male_s = all_data[:230]\n",
    "    female_s = all_data[190:]\n",
    "    means_difference.append(np.mean(female_s) - np.mean(male_s))\n",
    "    \n",
    "_ = plt.hist(means_difference, edgecolor='k', linewidth=1.2, bins=12)\n",
    "\n",
    "plt.scatter(np.mean(female_spending) - np.mean(male_spending), 0, color = \"red\", s=40)"
   ]
  },
  {
   "cell_type": "markdown",
   "metadata": {},
   "source": [
    "### concatenate\n",
    "\n",
    "Taking two datasets of similar shape (dimensionality) we can use np.concatenate to combine them and assign them to one dataset. In this example we start with male and female customer spending datasets and combine them together to create a generic customer spending dataset.\n",
    "\n",
    "We can use this when generating datasets that are made up of subsets of datasets or groups. \n",
    "\n",
    "an example might be generating data on the heights of students for each grade level then concatenating all the data in to one pool representing the heights of all students at a school,\n",
    "\n",
    "all_students = np.concatenate([k_heights, 1st_heights, 2nd_heights...])\n"
   ]
  },
  {
   "cell_type": "markdown",
   "metadata": {},
   "source": [
    "### How Surprising is an Observed Statistic?\n",
    "\n",
    "Out of the 1000 permutations generated, how many were equal to or larger than the observed statistic?\n",
    "We can count the number of simulated statistics that were equal to or larger than $11.XX \n",
    "\n",
    "The larger that number, the less \"surprised\" we are by the observed statistic\n",
    "\n",
    "The smaller it is, the less likely that the spending of males and females are from the same distribution\n",
    "\n"
   ]
  },
  {
   "cell_type": "code",
   "execution_count": 15,
   "metadata": {},
   "outputs": [
    {
     "data": {
      "text/plain": [
       "0.566"
      ]
     },
     "execution_count": 15,
     "metadata": {},
     "output_type": "execute_result"
    }
   ],
   "source": [
    "sum(np.array(means_difference) >= (np.mean(female_spending) - np.mean(male_spending))) / 1000"
   ]
  },
  {
   "cell_type": "markdown",
   "metadata": {},
   "source": [
    "### Comparing a Sample to a Distribution Param\n",
    "\n",
    "We already covered a method for achieving this when we generated the confidence intervals.\n",
    "Ex. The national average for the math subscore of the SAT is 525 with a standard deviation of 20. Does a sample of 100 students who followed your curriculum fare better than the national average?\n",
    "\n",
    "1. We can generate bootstrap samples and bootstrap statistics (replicates) and infer the 95% confidence interval\n",
    "2. If the param is included in the 95% confidence then we don't have enough evidence to discard the null hypothesis\n",
    "   The scores obtained by our 100 students are from the theoretical distribution with $\\mu = 525$ and $\\sigma = 20$\n",
    "\n",
    "\n",
    "\n"
   ]
  },
  {
   "cell_type": "code",
   "execution_count": 16,
   "metadata": {},
   "outputs": [
    {
     "data": {
      "text/plain": [
       "array([495.94406752, 580.01303647])"
      ]
     },
     "execution_count": 16,
     "metadata": {},
     "output_type": "execute_result"
    }
   ],
   "source": [
    "sample_students = np.random.normal(540, 20, 100)\n",
    "\n",
    "observed_means = []\n",
    "\n",
    "for i in range(1000):\n",
    "    bootstrap_sample = np.random.choice(sample_students, len(sample_students))\n",
    "    observed_means.append(np.mean(bootstrap_sample))\n",
    "\n",
    "conf_interval_95 = np.percentile(sample_students, (2.5, 97.5))\n",
    "conf_interval_95"
   ]
  },
  {
   "cell_type": "code",
   "execution_count": 17,
   "metadata": {},
   "outputs": [
    {
     "name": "stderr",
     "output_type": "stream",
     "text": [
      "/anaconda3/lib/python3.6/site-packages/matplotlib/axes/_axes.py:6462: UserWarning: The 'normed' kwarg is deprecated, and has been replaced by the 'density' kwarg.\n",
      "  warnings.warn(\"The 'normed' kwarg is deprecated, and has been \"\n"
     ]
    },
    {
     "data": {
      "text/plain": [
       "<matplotlib.legend.Legend at 0x12041d550>"
      ]
     },
     "execution_count": 17,
     "metadata": {},
     "output_type": "execute_result"
    },
    {
     "data": {
      "image/png": "[encoded data removed]",
      "text/plain": [
       "<Figure size 864x432 with 1 Axes>"
      ]
     },
     "metadata": {},
     "output_type": "display_data"
    }
   ],
   "source": [
    "plt.figure(figsize=(12,6))\n",
    "\n",
    "_ = plt.hist(sample_students, edgecolor='k', linewidth=1.2, bins=12, alpha=0.5, label=\"distribution of the mean\", normed=True)\n",
    "\n",
    "plt.hlines(0, conf_interval_95[0], conf_interval_95[1], linewidth=4, color='blue', label=\"conf_interval\")\n",
    "plt.scatter(525, 0,  s=400, color='r', marker=\"*\", label=\"population_mean\")\n",
    "plt.legend()\n",
    "\n",
    "\n"
   ]
  },
  {
   "cell_type": "markdown",
   "metadata": {},
   "source": [
    "### Comparing a Sample to a Distribution Param\n",
    "\n",
    "Note that above we used the mean of the sample\n",
    "We made at least one assumption about the underlying distribution\n",
    "\n",
    "1. What if the underlying distribution is not normal\n",
    "2. What if the data contains outliers that can bias our estimate of the mean?\n",
    "\n",
    "We can compute a statistic using a modified version of the two-sample method above"
   ]
  },
  {
   "cell_type": "code",
   "execution_count": null,
   "metadata": {},
   "outputs": [],
   "source": []
  },
  {
   "cell_type": "code",
   "execution_count": null,
   "metadata": {},
   "outputs": [],
   "source": []
  }
 ],
 "metadata": {
  "kernelspec": {
   "display_name": "Python 3",
   "language": "python",
   "name": "python3"
  },
  "language_info": {
   "codemirror_mode": {
    "name": "ipython",
    "version": 3
   },
   "file_extension": ".py",
   "mimetype": "text/x-python",
   "name": "python",
   "nbconvert_exporter": "python",
   "pygments_lexer": "ipython3",
   "version": "3.7.1"
  }
 },
 "nbformat": 4,
 "nbformat_minor": 2
}
